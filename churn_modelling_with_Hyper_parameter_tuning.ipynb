{
  "nbformat": 4,
  "nbformat_minor": 0,
  "metadata": {
    "colab": {
      "name": "churn_modelling with Hyper parameter tuning.ipynb",
      "provenance": []
    },
    "kernelspec": {
      "name": "python3",
      "display_name": "Python 3"
    },
    "language_info": {
      "name": "python"
    }
  },
  "cells": [
    {
      "cell_type": "code",
      "metadata": {
        "id": "s6d3VP1bw5ol"
      },
      "source": [
        "import pandas as pd\n",
        "import numpy as np\n",
        "import tensorflow as tf"
      ],
      "execution_count": 1,
      "outputs": []
    },
    {
      "cell_type": "code",
      "metadata": {
        "colab": {
          "base_uri": "https://localhost:8080/",
          "height": 226
        },
        "id": "B_t-M_8fxNtd",
        "outputId": "a425775d-c75e-41ab-ade8-233c9dd188ca"
      },
      "source": [
        "data = pd.read_csv('/content/drive/MyDrive/Colab Notebooks/Churn modelling/Churn_Modelling.csv')\n",
        "data.head()"
      ],
      "execution_count": 2,
      "outputs": [
        {
          "output_type": "execute_result",
          "data": {
            "text/html": [
              "<div>\n",
              "<style scoped>\n",
              "    .dataframe tbody tr th:only-of-type {\n",
              "        vertical-align: middle;\n",
              "    }\n",
              "\n",
              "    .dataframe tbody tr th {\n",
              "        vertical-align: top;\n",
              "    }\n",
              "\n",
              "    .dataframe thead th {\n",
              "        text-align: right;\n",
              "    }\n",
              "</style>\n",
              "<table border=\"1\" class=\"dataframe\">\n",
              "  <thead>\n",
              "    <tr style=\"text-align: right;\">\n",
              "      <th></th>\n",
              "      <th>RowNumber</th>\n",
              "      <th>CustomerId</th>\n",
              "      <th>Surname</th>\n",
              "      <th>CreditScore</th>\n",
              "      <th>Geography</th>\n",
              "      <th>Gender</th>\n",
              "      <th>Age</th>\n",
              "      <th>Tenure</th>\n",
              "      <th>Balance</th>\n",
              "      <th>NumOfProducts</th>\n",
              "      <th>HasCrCard</th>\n",
              "      <th>IsActiveMember</th>\n",
              "      <th>EstimatedSalary</th>\n",
              "      <th>Exited</th>\n",
              "    </tr>\n",
              "  </thead>\n",
              "  <tbody>\n",
              "    <tr>\n",
              "      <th>0</th>\n",
              "      <td>1</td>\n",
              "      <td>15634602</td>\n",
              "      <td>Hargrave</td>\n",
              "      <td>619</td>\n",
              "      <td>France</td>\n",
              "      <td>Female</td>\n",
              "      <td>42</td>\n",
              "      <td>2</td>\n",
              "      <td>0.00</td>\n",
              "      <td>1</td>\n",
              "      <td>1</td>\n",
              "      <td>1</td>\n",
              "      <td>101348.88</td>\n",
              "      <td>1</td>\n",
              "    </tr>\n",
              "    <tr>\n",
              "      <th>1</th>\n",
              "      <td>2</td>\n",
              "      <td>15647311</td>\n",
              "      <td>Hill</td>\n",
              "      <td>608</td>\n",
              "      <td>Spain</td>\n",
              "      <td>Female</td>\n",
              "      <td>41</td>\n",
              "      <td>1</td>\n",
              "      <td>83807.86</td>\n",
              "      <td>1</td>\n",
              "      <td>0</td>\n",
              "      <td>1</td>\n",
              "      <td>112542.58</td>\n",
              "      <td>0</td>\n",
              "    </tr>\n",
              "    <tr>\n",
              "      <th>2</th>\n",
              "      <td>3</td>\n",
              "      <td>15619304</td>\n",
              "      <td>Onio</td>\n",
              "      <td>502</td>\n",
              "      <td>France</td>\n",
              "      <td>Female</td>\n",
              "      <td>42</td>\n",
              "      <td>8</td>\n",
              "      <td>159660.80</td>\n",
              "      <td>3</td>\n",
              "      <td>1</td>\n",
              "      <td>0</td>\n",
              "      <td>113931.57</td>\n",
              "      <td>1</td>\n",
              "    </tr>\n",
              "    <tr>\n",
              "      <th>3</th>\n",
              "      <td>4</td>\n",
              "      <td>15701354</td>\n",
              "      <td>Boni</td>\n",
              "      <td>699</td>\n",
              "      <td>France</td>\n",
              "      <td>Female</td>\n",
              "      <td>39</td>\n",
              "      <td>1</td>\n",
              "      <td>0.00</td>\n",
              "      <td>2</td>\n",
              "      <td>0</td>\n",
              "      <td>0</td>\n",
              "      <td>93826.63</td>\n",
              "      <td>0</td>\n",
              "    </tr>\n",
              "    <tr>\n",
              "      <th>4</th>\n",
              "      <td>5</td>\n",
              "      <td>15737888</td>\n",
              "      <td>Mitchell</td>\n",
              "      <td>850</td>\n",
              "      <td>Spain</td>\n",
              "      <td>Female</td>\n",
              "      <td>43</td>\n",
              "      <td>2</td>\n",
              "      <td>125510.82</td>\n",
              "      <td>1</td>\n",
              "      <td>1</td>\n",
              "      <td>1</td>\n",
              "      <td>79084.10</td>\n",
              "      <td>0</td>\n",
              "    </tr>\n",
              "  </tbody>\n",
              "</table>\n",
              "</div>"
            ],
            "text/plain": [
              "   RowNumber  CustomerId   Surname  ...  IsActiveMember EstimatedSalary Exited\n",
              "0          1    15634602  Hargrave  ...               1       101348.88      1\n",
              "1          2    15647311      Hill  ...               1       112542.58      0\n",
              "2          3    15619304      Onio  ...               0       113931.57      1\n",
              "3          4    15701354      Boni  ...               0        93826.63      0\n",
              "4          5    15737888  Mitchell  ...               1        79084.10      0\n",
              "\n",
              "[5 rows x 14 columns]"
            ]
          },
          "metadata": {},
          "execution_count": 2
        }
      ]
    },
    {
      "cell_type": "code",
      "metadata": {
        "id": "x_4rX4o6xVtj"
      },
      "source": [
        "X = data.iloc[:,3:-1]\n",
        "y = data.iloc[:,-1]"
      ],
      "execution_count": 3,
      "outputs": []
    },
    {
      "cell_type": "code",
      "metadata": {
        "id": "nuD_8oyVxmwu"
      },
      "source": [
        "# create dummy variables\n",
        "geography = pd.get_dummies(data = X['Geography'],drop_first=True)\n",
        "gender = pd.get_dummies(data = X['Gender'],drop_first=True)"
      ],
      "execution_count": 4,
      "outputs": []
    },
    {
      "cell_type": "code",
      "metadata": {
        "id": "5GhI83YBxoVC"
      },
      "source": [
        "# concat two new columns to the X dataframe\n",
        "X=pd.concat([X,geography,gender],axis=1)"
      ],
      "execution_count": 5,
      "outputs": []
    },
    {
      "cell_type": "code",
      "metadata": {
        "id": "tBtELfg_xssa"
      },
      "source": [
        "#drop unnecessary columns\n",
        "X = X.drop(['Geography','Gender'],axis=1)"
      ],
      "execution_count": 6,
      "outputs": []
    },
    {
      "cell_type": "markdown",
      "metadata": {
        "id": "MkoQx5HP1jBk"
      },
      "source": [
        "## Splitting dataset"
      ]
    },
    {
      "cell_type": "code",
      "metadata": {
        "id": "EX6rWLtNycsv"
      },
      "source": [
        "from sklearn.model_selection import train_test_split\n",
        "X_train,X_test,y_train,y_test = train_test_split(X,y,test_size=0.2,random_state = 42)"
      ],
      "execution_count": 7,
      "outputs": []
    },
    {
      "cell_type": "markdown",
      "metadata": {
        "id": "9dMswAqK1m4w"
      },
      "source": [
        "## Feature Scaling"
      ]
    },
    {
      "cell_type": "code",
      "metadata": {
        "id": "-SeJsFmN0Qcn"
      },
      "source": [
        "from sklearn.preprocessing import StandardScaler\n",
        "sc = StandardScaler()\n",
        "X_train = sc.fit_transform(X_train)\n",
        "X_test = sc.fit_transform(X_test)"
      ],
      "execution_count": 8,
      "outputs": []
    },
    {
      "cell_type": "markdown",
      "metadata": {
        "id": "NHiymOxB2gaW"
      },
      "source": [
        "## Importing ANN libraries"
      ]
    },
    {
      "cell_type": "code",
      "metadata": {
        "id": "X5wtYXyE2D10"
      },
      "source": [
        "import tensorflow as tf\n",
        "from tensorflow import keras\n",
        "from tensorflow.keras.models import Sequential\n",
        "from tensorflow.keras.layers import Dense"
      ],
      "execution_count": 9,
      "outputs": []
    },
    {
      "cell_type": "code",
      "metadata": {
        "id": "L77r6vhl4MlF"
      },
      "source": [
        "## initializing ann\n",
        "classifier = Sequential()\n",
        "\n",
        "## adding 1st hidden layer\n",
        "classifier.add(Dense(units=6,activation='relu',kernel_initializer='he_uniform',input_dim = 11))\n",
        "\n",
        "##  adding 2nd hidden layer\n",
        "classifier.add(Dense(units=6,activation='relu',kernel_initializer='he_uniform'))\n",
        "\n",
        "## adding output layer\n",
        "classifier.add(Dense(units=1,activation='sigmoid',kernel_initializer='glorot_uniform'))"
      ],
      "execution_count": 10,
      "outputs": []
    },
    {
      "cell_type": "code",
      "metadata": {
        "colab": {
          "base_uri": "https://localhost:8080/"
        },
        "id": "oPCObgvFYB7n",
        "outputId": "6296c19f-4634-4049-87e6-48739812781b"
      },
      "source": [
        "classifier.summary()"
      ],
      "execution_count": 11,
      "outputs": [
        {
          "output_type": "stream",
          "name": "stdout",
          "text": [
            "Model: \"sequential\"\n",
            "_________________________________________________________________\n",
            " Layer (type)                Output Shape              Param #   \n",
            "=================================================================\n",
            " dense (Dense)               (None, 6)                 72        \n",
            "                                                                 \n",
            " dense_1 (Dense)             (None, 6)                 42        \n",
            "                                                                 \n",
            " dense_2 (Dense)             (None, 1)                 7         \n",
            "                                                                 \n",
            "=================================================================\n",
            "Total params: 121\n",
            "Trainable params: 121\n",
            "Non-trainable params: 0\n",
            "_________________________________________________________________\n"
          ]
        }
      ]
    },
    {
      "cell_type": "code",
      "metadata": {
        "id": "B6SCZHoZYQco"
      },
      "source": [
        "## compiling ann\n",
        "classifier.compile(optimizer='adam',loss='binary_crossentropy',metrics=['accuracy'])"
      ],
      "execution_count": 12,
      "outputs": []
    },
    {
      "cell_type": "code",
      "metadata": {
        "colab": {
          "base_uri": "https://localhost:8080/"
        },
        "id": "0O1WJMoraJNG",
        "outputId": "09450027-2504-4747-e8d6-7fcb4f8ac77d"
      },
      "source": [
        "# training ann on the train set\n",
        "classifier.fit(X_train,y_train,validation_split=0.33,batch_size=10,epochs=100)"
      ],
      "execution_count": 13,
      "outputs": [
        {
          "output_type": "stream",
          "name": "stdout",
          "text": [
            "Epoch 1/100\n",
            "536/536 [==============================] - 2s 2ms/step - loss: 0.5953 - accuracy: 0.7613 - val_loss: 0.5214 - val_accuracy: 0.7963\n",
            "Epoch 2/100\n",
            "536/536 [==============================] - 1s 2ms/step - loss: 0.4863 - accuracy: 0.8061 - val_loss: 0.4678 - val_accuracy: 0.8065\n",
            "Epoch 3/100\n",
            "536/536 [==============================] - 1s 2ms/step - loss: 0.4519 - accuracy: 0.8121 - val_loss: 0.4506 - val_accuracy: 0.8137\n",
            "Epoch 4/100\n",
            "536/536 [==============================] - 1s 2ms/step - loss: 0.4369 - accuracy: 0.8166 - val_loss: 0.4418 - val_accuracy: 0.8148\n",
            "Epoch 5/100\n",
            "536/536 [==============================] - 1s 2ms/step - loss: 0.4281 - accuracy: 0.8179 - val_loss: 0.4368 - val_accuracy: 0.8183\n",
            "Epoch 6/100\n",
            "536/536 [==============================] - 1s 2ms/step - loss: 0.4227 - accuracy: 0.8207 - val_loss: 0.4338 - val_accuracy: 0.8217\n",
            "Epoch 7/100\n",
            "536/536 [==============================] - 1s 2ms/step - loss: 0.4179 - accuracy: 0.8240 - val_loss: 0.4319 - val_accuracy: 0.8251\n",
            "Epoch 8/100\n",
            "536/536 [==============================] - 1s 2ms/step - loss: 0.4134 - accuracy: 0.8268 - val_loss: 0.4291 - val_accuracy: 0.8254\n",
            "Epoch 9/100\n",
            "536/536 [==============================] - 1s 2ms/step - loss: 0.4085 - accuracy: 0.8293 - val_loss: 0.4257 - val_accuracy: 0.8258\n",
            "Epoch 10/100\n",
            "536/536 [==============================] - 1s 2ms/step - loss: 0.4014 - accuracy: 0.8300 - val_loss: 0.4186 - val_accuracy: 0.8254\n",
            "Epoch 11/100\n",
            "536/536 [==============================] - 1s 2ms/step - loss: 0.3909 - accuracy: 0.8341 - val_loss: 0.4045 - val_accuracy: 0.8334\n",
            "Epoch 12/100\n",
            "536/536 [==============================] - 1s 2ms/step - loss: 0.3791 - accuracy: 0.8412 - val_loss: 0.3949 - val_accuracy: 0.8395\n",
            "Epoch 13/100\n",
            "536/536 [==============================] - 1s 2ms/step - loss: 0.3698 - accuracy: 0.8440 - val_loss: 0.3887 - val_accuracy: 0.8410\n",
            "Epoch 14/100\n",
            "536/536 [==============================] - 1s 2ms/step - loss: 0.3631 - accuracy: 0.8479 - val_loss: 0.3814 - val_accuracy: 0.8444\n",
            "Epoch 15/100\n",
            "536/536 [==============================] - 1s 2ms/step - loss: 0.3574 - accuracy: 0.8505 - val_loss: 0.3777 - val_accuracy: 0.8429\n",
            "Epoch 16/100\n",
            "536/536 [==============================] - 1s 2ms/step - loss: 0.3524 - accuracy: 0.8530 - val_loss: 0.3735 - val_accuracy: 0.8448\n",
            "Epoch 17/100\n",
            "536/536 [==============================] - 1s 2ms/step - loss: 0.3491 - accuracy: 0.8552 - val_loss: 0.3705 - val_accuracy: 0.8448\n",
            "Epoch 18/100\n",
            "536/536 [==============================] - 1s 2ms/step - loss: 0.3462 - accuracy: 0.8559 - val_loss: 0.3702 - val_accuracy: 0.8448\n",
            "Epoch 19/100\n",
            "536/536 [==============================] - 1s 2ms/step - loss: 0.3448 - accuracy: 0.8578 - val_loss: 0.3684 - val_accuracy: 0.8425\n",
            "Epoch 20/100\n",
            "536/536 [==============================] - 1s 2ms/step - loss: 0.3430 - accuracy: 0.8565 - val_loss: 0.3677 - val_accuracy: 0.8444\n",
            "Epoch 21/100\n",
            "536/536 [==============================] - 1s 2ms/step - loss: 0.3415 - accuracy: 0.8599 - val_loss: 0.3691 - val_accuracy: 0.8429\n",
            "Epoch 22/100\n",
            "536/536 [==============================] - 1s 2ms/step - loss: 0.3408 - accuracy: 0.8565 - val_loss: 0.3667 - val_accuracy: 0.8444\n",
            "Epoch 23/100\n",
            "536/536 [==============================] - 1s 2ms/step - loss: 0.3400 - accuracy: 0.8600 - val_loss: 0.3668 - val_accuracy: 0.8466\n",
            "Epoch 24/100\n",
            "536/536 [==============================] - 1s 2ms/step - loss: 0.3395 - accuracy: 0.8591 - val_loss: 0.3664 - val_accuracy: 0.8459\n",
            "Epoch 25/100\n",
            "536/536 [==============================] - 1s 2ms/step - loss: 0.3383 - accuracy: 0.8610 - val_loss: 0.3667 - val_accuracy: 0.8436\n",
            "Epoch 26/100\n",
            "536/536 [==============================] - 1s 2ms/step - loss: 0.3377 - accuracy: 0.8608 - val_loss: 0.3661 - val_accuracy: 0.8459\n",
            "Epoch 27/100\n",
            "536/536 [==============================] - 1s 2ms/step - loss: 0.3368 - accuracy: 0.8610 - val_loss: 0.3654 - val_accuracy: 0.8478\n",
            "Epoch 28/100\n",
            "536/536 [==============================] - 1s 2ms/step - loss: 0.3360 - accuracy: 0.8604 - val_loss: 0.3657 - val_accuracy: 0.8459\n",
            "Epoch 29/100\n",
            "536/536 [==============================] - 1s 2ms/step - loss: 0.3357 - accuracy: 0.8608 - val_loss: 0.3653 - val_accuracy: 0.8459\n",
            "Epoch 30/100\n",
            "536/536 [==============================] - 1s 2ms/step - loss: 0.3356 - accuracy: 0.8619 - val_loss: 0.3654 - val_accuracy: 0.8466\n",
            "Epoch 31/100\n",
            "536/536 [==============================] - 1s 2ms/step - loss: 0.3352 - accuracy: 0.8623 - val_loss: 0.3657 - val_accuracy: 0.8459\n",
            "Epoch 32/100\n",
            "536/536 [==============================] - 1s 2ms/step - loss: 0.3344 - accuracy: 0.8630 - val_loss: 0.3656 - val_accuracy: 0.8485\n",
            "Epoch 33/100\n",
            "536/536 [==============================] - 1s 2ms/step - loss: 0.3345 - accuracy: 0.8642 - val_loss: 0.3662 - val_accuracy: 0.8451\n",
            "Epoch 34/100\n",
            "536/536 [==============================] - 1s 2ms/step - loss: 0.3336 - accuracy: 0.8612 - val_loss: 0.3649 - val_accuracy: 0.8463\n",
            "Epoch 35/100\n",
            "536/536 [==============================] - 1s 2ms/step - loss: 0.3331 - accuracy: 0.8636 - val_loss: 0.3655 - val_accuracy: 0.8459\n",
            "Epoch 36/100\n",
            "536/536 [==============================] - 1s 2ms/step - loss: 0.3325 - accuracy: 0.8630 - val_loss: 0.3648 - val_accuracy: 0.8470\n",
            "Epoch 37/100\n",
            "536/536 [==============================] - 1s 2ms/step - loss: 0.3322 - accuracy: 0.8655 - val_loss: 0.3649 - val_accuracy: 0.8466\n",
            "Epoch 38/100\n",
            "536/536 [==============================] - 1s 2ms/step - loss: 0.3319 - accuracy: 0.8625 - val_loss: 0.3646 - val_accuracy: 0.8463\n",
            "Epoch 39/100\n",
            "536/536 [==============================] - 1s 2ms/step - loss: 0.3311 - accuracy: 0.8634 - val_loss: 0.3643 - val_accuracy: 0.8459\n",
            "Epoch 40/100\n",
            "536/536 [==============================] - 1s 2ms/step - loss: 0.3310 - accuracy: 0.8621 - val_loss: 0.3644 - val_accuracy: 0.8451\n",
            "Epoch 41/100\n",
            "536/536 [==============================] - 1s 2ms/step - loss: 0.3307 - accuracy: 0.8636 - val_loss: 0.3656 - val_accuracy: 0.8436\n",
            "Epoch 42/100\n",
            "536/536 [==============================] - 1s 2ms/step - loss: 0.3300 - accuracy: 0.8630 - val_loss: 0.3625 - val_accuracy: 0.8474\n",
            "Epoch 43/100\n",
            "536/536 [==============================] - 1s 2ms/step - loss: 0.3300 - accuracy: 0.8632 - val_loss: 0.3625 - val_accuracy: 0.8482\n",
            "Epoch 44/100\n",
            "536/536 [==============================] - 1s 2ms/step - loss: 0.3293 - accuracy: 0.8643 - val_loss: 0.3636 - val_accuracy: 0.8455\n",
            "Epoch 45/100\n",
            "536/536 [==============================] - 1s 2ms/step - loss: 0.3296 - accuracy: 0.8653 - val_loss: 0.3627 - val_accuracy: 0.8474\n",
            "Epoch 46/100\n",
            "536/536 [==============================] - 1s 2ms/step - loss: 0.3288 - accuracy: 0.8638 - val_loss: 0.3632 - val_accuracy: 0.8466\n",
            "Epoch 47/100\n",
            "536/536 [==============================] - 1s 2ms/step - loss: 0.3284 - accuracy: 0.8653 - val_loss: 0.3635 - val_accuracy: 0.8489\n",
            "Epoch 48/100\n",
            "536/536 [==============================] - 1s 2ms/step - loss: 0.3283 - accuracy: 0.8651 - val_loss: 0.3629 - val_accuracy: 0.8489\n",
            "Epoch 49/100\n",
            "536/536 [==============================] - 1s 2ms/step - loss: 0.3279 - accuracy: 0.8656 - val_loss: 0.3640 - val_accuracy: 0.8485\n",
            "Epoch 50/100\n",
            "536/536 [==============================] - 1s 2ms/step - loss: 0.3272 - accuracy: 0.8655 - val_loss: 0.3631 - val_accuracy: 0.8474\n",
            "Epoch 51/100\n",
            "536/536 [==============================] - 1s 2ms/step - loss: 0.3276 - accuracy: 0.8640 - val_loss: 0.3624 - val_accuracy: 0.8485\n",
            "Epoch 52/100\n",
            "536/536 [==============================] - 1s 2ms/step - loss: 0.3272 - accuracy: 0.8649 - val_loss: 0.3626 - val_accuracy: 0.8482\n",
            "Epoch 53/100\n",
            "536/536 [==============================] - 1s 2ms/step - loss: 0.3266 - accuracy: 0.8662 - val_loss: 0.3624 - val_accuracy: 0.8497\n",
            "Epoch 54/100\n",
            "536/536 [==============================] - 1s 2ms/step - loss: 0.3266 - accuracy: 0.8655 - val_loss: 0.3626 - val_accuracy: 0.8470\n",
            "Epoch 55/100\n",
            "536/536 [==============================] - 1s 2ms/step - loss: 0.3264 - accuracy: 0.8658 - val_loss: 0.3616 - val_accuracy: 0.8482\n",
            "Epoch 56/100\n",
            "536/536 [==============================] - 1s 2ms/step - loss: 0.3261 - accuracy: 0.8683 - val_loss: 0.3620 - val_accuracy: 0.8478\n",
            "Epoch 57/100\n",
            "536/536 [==============================] - 1s 2ms/step - loss: 0.3256 - accuracy: 0.8668 - val_loss: 0.3634 - val_accuracy: 0.8474\n",
            "Epoch 58/100\n",
            "536/536 [==============================] - 1s 2ms/step - loss: 0.3259 - accuracy: 0.8649 - val_loss: 0.3618 - val_accuracy: 0.8482\n",
            "Epoch 59/100\n",
            "536/536 [==============================] - 1s 2ms/step - loss: 0.3250 - accuracy: 0.8658 - val_loss: 0.3659 - val_accuracy: 0.8478\n",
            "Epoch 60/100\n",
            "536/536 [==============================] - 1s 2ms/step - loss: 0.3259 - accuracy: 0.8649 - val_loss: 0.3630 - val_accuracy: 0.8470\n",
            "Epoch 61/100\n",
            "536/536 [==============================] - 1s 2ms/step - loss: 0.3255 - accuracy: 0.8645 - val_loss: 0.3626 - val_accuracy: 0.8485\n",
            "Epoch 62/100\n",
            "536/536 [==============================] - 1s 2ms/step - loss: 0.3253 - accuracy: 0.8658 - val_loss: 0.3620 - val_accuracy: 0.8474\n",
            "Epoch 63/100\n",
            "536/536 [==============================] - 1s 2ms/step - loss: 0.3248 - accuracy: 0.8645 - val_loss: 0.3652 - val_accuracy: 0.8474\n",
            "Epoch 64/100\n",
            "536/536 [==============================] - 1s 2ms/step - loss: 0.3247 - accuracy: 0.8662 - val_loss: 0.3638 - val_accuracy: 0.8482\n",
            "Epoch 65/100\n",
            "536/536 [==============================] - 1s 2ms/step - loss: 0.3250 - accuracy: 0.8662 - val_loss: 0.3625 - val_accuracy: 0.8466\n",
            "Epoch 66/100\n",
            "536/536 [==============================] - 1s 2ms/step - loss: 0.3244 - accuracy: 0.8662 - val_loss: 0.3644 - val_accuracy: 0.8455\n",
            "Epoch 67/100\n",
            "536/536 [==============================] - 1s 2ms/step - loss: 0.3249 - accuracy: 0.8651 - val_loss: 0.3632 - val_accuracy: 0.8444\n",
            "Epoch 68/100\n",
            "536/536 [==============================] - 1s 2ms/step - loss: 0.3248 - accuracy: 0.8664 - val_loss: 0.3626 - val_accuracy: 0.8485\n",
            "Epoch 69/100\n",
            "536/536 [==============================] - 1s 2ms/step - loss: 0.3243 - accuracy: 0.8671 - val_loss: 0.3648 - val_accuracy: 0.8470\n",
            "Epoch 70/100\n",
            "536/536 [==============================] - 1s 2ms/step - loss: 0.3241 - accuracy: 0.8655 - val_loss: 0.3636 - val_accuracy: 0.8478\n",
            "Epoch 71/100\n",
            "536/536 [==============================] - 1s 2ms/step - loss: 0.3247 - accuracy: 0.8658 - val_loss: 0.3622 - val_accuracy: 0.8459\n",
            "Epoch 72/100\n",
            "536/536 [==============================] - 1s 2ms/step - loss: 0.3248 - accuracy: 0.8643 - val_loss: 0.3631 - val_accuracy: 0.8466\n",
            "Epoch 73/100\n",
            "536/536 [==============================] - 1s 2ms/step - loss: 0.3243 - accuracy: 0.8658 - val_loss: 0.3636 - val_accuracy: 0.8459\n",
            "Epoch 74/100\n",
            "536/536 [==============================] - 1s 2ms/step - loss: 0.3237 - accuracy: 0.8653 - val_loss: 0.3658 - val_accuracy: 0.8489\n",
            "Epoch 75/100\n",
            "536/536 [==============================] - 1s 2ms/step - loss: 0.3243 - accuracy: 0.8679 - val_loss: 0.3650 - val_accuracy: 0.8470\n",
            "Epoch 76/100\n",
            "536/536 [==============================] - 1s 2ms/step - loss: 0.3243 - accuracy: 0.8671 - val_loss: 0.3631 - val_accuracy: 0.8466\n",
            "Epoch 77/100\n",
            "536/536 [==============================] - 1s 2ms/step - loss: 0.3241 - accuracy: 0.8656 - val_loss: 0.3636 - val_accuracy: 0.8448\n",
            "Epoch 78/100\n",
            "536/536 [==============================] - 1s 2ms/step - loss: 0.3234 - accuracy: 0.8660 - val_loss: 0.3638 - val_accuracy: 0.8474\n",
            "Epoch 79/100\n",
            "536/536 [==============================] - 1s 2ms/step - loss: 0.3243 - accuracy: 0.8668 - val_loss: 0.3628 - val_accuracy: 0.8466\n",
            "Epoch 80/100\n",
            "536/536 [==============================] - 1s 2ms/step - loss: 0.3239 - accuracy: 0.8660 - val_loss: 0.3633 - val_accuracy: 0.8459\n",
            "Epoch 81/100\n",
            "536/536 [==============================] - 1s 2ms/step - loss: 0.3238 - accuracy: 0.8656 - val_loss: 0.3646 - val_accuracy: 0.8455\n",
            "Epoch 82/100\n",
            "536/536 [==============================] - 1s 2ms/step - loss: 0.3234 - accuracy: 0.8660 - val_loss: 0.3660 - val_accuracy: 0.8470\n",
            "Epoch 83/100\n",
            "536/536 [==============================] - 1s 2ms/step - loss: 0.3239 - accuracy: 0.8656 - val_loss: 0.3642 - val_accuracy: 0.8425\n",
            "Epoch 84/100\n",
            "536/536 [==============================] - 1s 2ms/step - loss: 0.3238 - accuracy: 0.8668 - val_loss: 0.3637 - val_accuracy: 0.8459\n",
            "Epoch 85/100\n",
            "536/536 [==============================] - 1s 2ms/step - loss: 0.3231 - accuracy: 0.8668 - val_loss: 0.3641 - val_accuracy: 0.8463\n",
            "Epoch 86/100\n",
            "536/536 [==============================] - 1s 2ms/step - loss: 0.3235 - accuracy: 0.8656 - val_loss: 0.3645 - val_accuracy: 0.8474\n",
            "Epoch 87/100\n",
            "536/536 [==============================] - 1s 2ms/step - loss: 0.3236 - accuracy: 0.8660 - val_loss: 0.3631 - val_accuracy: 0.8448\n",
            "Epoch 88/100\n",
            "536/536 [==============================] - 1s 2ms/step - loss: 0.3234 - accuracy: 0.8658 - val_loss: 0.3627 - val_accuracy: 0.8459\n",
            "Epoch 89/100\n",
            "536/536 [==============================] - 1s 2ms/step - loss: 0.3236 - accuracy: 0.8668 - val_loss: 0.3638 - val_accuracy: 0.8448\n",
            "Epoch 90/100\n",
            "536/536 [==============================] - 1s 2ms/step - loss: 0.3236 - accuracy: 0.8666 - val_loss: 0.3661 - val_accuracy: 0.8470\n",
            "Epoch 91/100\n",
            "536/536 [==============================] - 1s 2ms/step - loss: 0.3235 - accuracy: 0.8666 - val_loss: 0.3644 - val_accuracy: 0.8459\n",
            "Epoch 92/100\n",
            "536/536 [==============================] - 1s 2ms/step - loss: 0.3232 - accuracy: 0.8656 - val_loss: 0.3633 - val_accuracy: 0.8466\n",
            "Epoch 93/100\n",
            "536/536 [==============================] - 1s 2ms/step - loss: 0.3235 - accuracy: 0.8671 - val_loss: 0.3636 - val_accuracy: 0.8470\n",
            "Epoch 94/100\n",
            "536/536 [==============================] - 1s 2ms/step - loss: 0.3233 - accuracy: 0.8668 - val_loss: 0.3635 - val_accuracy: 0.8478\n",
            "Epoch 95/100\n",
            "536/536 [==============================] - 1s 2ms/step - loss: 0.3227 - accuracy: 0.8666 - val_loss: 0.3630 - val_accuracy: 0.8463\n",
            "Epoch 96/100\n",
            "536/536 [==============================] - 1s 2ms/step - loss: 0.3232 - accuracy: 0.8670 - val_loss: 0.3633 - val_accuracy: 0.8459\n",
            "Epoch 97/100\n",
            "536/536 [==============================] - 1s 2ms/step - loss: 0.3232 - accuracy: 0.8653 - val_loss: 0.3637 - val_accuracy: 0.8455\n",
            "Epoch 98/100\n",
            "536/536 [==============================] - 1s 2ms/step - loss: 0.3232 - accuracy: 0.8658 - val_loss: 0.3631 - val_accuracy: 0.8466\n",
            "Epoch 99/100\n",
            "536/536 [==============================] - 1s 2ms/step - loss: 0.3230 - accuracy: 0.8662 - val_loss: 0.3631 - val_accuracy: 0.8470\n",
            "Epoch 100/100\n",
            "536/536 [==============================] - 1s 2ms/step - loss: 0.3231 - accuracy: 0.8670 - val_loss: 0.3639 - val_accuracy: 0.8470\n"
          ]
        },
        {
          "output_type": "execute_result",
          "data": {
            "text/plain": [
              "<keras.callbacks.History at 0x7f370a9c63d0>"
            ]
          },
          "metadata": {},
          "execution_count": 13
        }
      ]
    },
    {
      "cell_type": "code",
      "metadata": {
        "id": "bzYf5Fpdaa_Z"
      },
      "source": [
        "# predicting test set results\n",
        "y_pred = classifier.predict(X_test)\n",
        "y_pred=(y_pred>0.5)"
      ],
      "execution_count": 14,
      "outputs": []
    },
    {
      "cell_type": "code",
      "metadata": {
        "colab": {
          "base_uri": "https://localhost:8080/"
        },
        "id": "AbtjEDydblIs",
        "outputId": "17d807f0-a12f-4a08-d567-9327b409a6b9"
      },
      "source": [
        "# make confusion_matrix and get accuracy score\n",
        "from sklearn.metrics import confusion_matrix,accuracy_score\n",
        "cm=confusion_matrix(y_test,y_pred)\n",
        "print(cm)\n",
        "accuracy=accuracy_score(y_test,y_pred)\n",
        "print(accuracy)"
      ],
      "execution_count": 15,
      "outputs": [
        {
          "output_type": "stream",
          "name": "stdout",
          "text": [
            "[[1548   59]\n",
            " [ 217  176]]\n",
            "0.862\n"
          ]
        }
      ]
    },
    {
      "cell_type": "markdown",
      "metadata": {
        "id": "kbnVQFcumAju"
      },
      "source": [
        "## Keras Tuner : Hyperparameter Tuning"
      ]
    },
    {
      "cell_type": "code",
      "metadata": {
        "id": "RdyytXMDcB1E"
      },
      "source": [
        "import tensorflow as tf\n",
        "from tensorflow import keras\n",
        "from tensorflow.keras.models import Sequential\n",
        "from tensorflow.keras.layers import Dense\n",
        "from tensorflow.keras.optimizers import Adam\n",
        "from keras_tuner import RandomSearch"
      ],
      "execution_count": 18,
      "outputs": []
    },
    {
      "cell_type": "code",
      "metadata": {
        "id": "CXkcsEmMmuUZ"
      },
      "source": [
        "## building the model\n",
        "def build_model(hp):\n",
        "  model= Sequential()\n",
        "  for i in range(hp.Int('layers', 2, 20)):\n",
        "    model.add(Dense(units=hp.Int('units_' + str(i), min_value=32, max_value=512, step=32),\n",
        "                                  activation='relu'))\n",
        "  model.add(Dense(1, activation='linear'))\n",
        "\n",
        "  model.compile(optimizer=Adam(hp.Choice('learning_rate', values=[1e-2, 1e-3, 1e-4])),\n",
        "                loss = 'binary_crossentropy', \n",
        "                metrics = ['accuracy'])\n",
        "  \n",
        "  return model"
      ],
      "execution_count": 19,
      "outputs": []
    },
    {
      "cell_type": "code",
      "metadata": {
        "id": "rmQvLPm9oA9N"
      },
      "source": [
        "tuner = RandomSearch(\n",
        "              build_model,\n",
        "              objective = 'val_accuracy',\n",
        "              max_trials = 5,\n",
        "              executions_per_trial = 3,\n",
        "              directory = 'tuner'\n",
        "        )"
      ],
      "execution_count": 20,
      "outputs": []
    },
    {
      "cell_type": "code",
      "metadata": {
        "colab": {
          "base_uri": "https://localhost:8080/"
        },
        "id": "JTZGTlNpoUuN",
        "outputId": "c03e036a-be9c-435b-b7e1-0b429a708216"
      },
      "source": [
        "tuner.search_space_summary()"
      ],
      "execution_count": 21,
      "outputs": [
        {
          "output_type": "stream",
          "name": "stdout",
          "text": [
            "Search space summary\n",
            "Default search space size: 4\n",
            "layers (Int)\n",
            "{'default': None, 'conditions': [], 'min_value': 2, 'max_value': 20, 'step': 1, 'sampling': None}\n",
            "units_0 (Int)\n",
            "{'default': None, 'conditions': [], 'min_value': 32, 'max_value': 512, 'step': 32, 'sampling': None}\n",
            "units_1 (Int)\n",
            "{'default': None, 'conditions': [], 'min_value': 32, 'max_value': 512, 'step': 32, 'sampling': None}\n",
            "learning_rate (Choice)\n",
            "{'default': 0.01, 'conditions': [], 'values': [0.01, 0.001, 0.0001], 'ordered': True}\n"
          ]
        }
      ]
    },
    {
      "cell_type": "markdown",
      "metadata": {
        "id": "tJim03V6oqgH"
      },
      "source": [
        "## Fitting the model\n",
        "The next thing to do is fitting the model. Here, tuner.search works like model.fit."
      ]
    },
    {
      "cell_type": "code",
      "metadata": {
        "colab": {
          "base_uri": "https://localhost:8080/"
        },
        "id": "p9_EDyFvogoe",
        "outputId": "ac9b3b42-ca1c-45a7-e645-599a61e6c434"
      },
      "source": [
        "tuner.search(X_train, y_train, validation_split = 0.33,batch_size=10,epochs=10)"
      ],
      "execution_count": 23,
      "outputs": [
        {
          "output_type": "stream",
          "name": "stdout",
          "text": [
            "Trial 6 Complete [00h 04m 06s]\n",
            "val_accuracy: 0.851066509882609\n",
            "\n",
            "Best val_accuracy So Far: 0.851066509882609\n",
            "Total elapsed time: 00h 24m 41s\n",
            "INFO:tensorflow:Oracle triggered exit\n"
          ]
        }
      ]
    },
    {
      "cell_type": "code",
      "metadata": {
        "colab": {
          "base_uri": "https://localhost:8080/"
        },
        "id": "a3UhWQbTm3m7",
        "outputId": "27431402-2c82-4a85-c425-db9a4718993a"
      },
      "source": [
        "tuner.results_summary()"
      ],
      "execution_count": 24,
      "outputs": [
        {
          "output_type": "stream",
          "name": "stdout",
          "text": [
            "Results summary\n",
            "Results in tuner/untitled_project\n",
            "Showing 10 best trials\n",
            "Objective(name='val_accuracy', direction='max')\n",
            "Trial summary\n",
            "Hyperparameters:\n",
            "layers: 15\n",
            "units_0: 288\n",
            "units_1: 480\n",
            "learning_rate: 0.0001\n",
            "units_2: 416\n",
            "units_3: 96\n",
            "units_4: 96\n",
            "units_5: 320\n",
            "units_6: 64\n",
            "units_7: 96\n",
            "units_8: 480\n",
            "units_9: 352\n",
            "units_10: 192\n",
            "units_11: 192\n",
            "units_12: 384\n",
            "units_13: 224\n",
            "units_14: 384\n",
            "units_15: 192\n",
            "units_16: 288\n",
            "units_17: 384\n",
            "units_18: 128\n",
            "units_19: 288\n",
            "Score: 0.851066509882609\n",
            "Trial summary\n",
            "Hyperparameters:\n",
            "layers: 13\n",
            "units_0: 192\n",
            "units_1: 256\n",
            "learning_rate: 0.0001\n",
            "units_2: 352\n",
            "units_3: 128\n",
            "units_4: 32\n",
            "units_5: 64\n",
            "units_6: 480\n",
            "units_7: 480\n",
            "units_8: 448\n",
            "units_9: 288\n",
            "units_10: 32\n",
            "units_11: 256\n",
            "units_12: 288\n",
            "units_13: 128\n",
            "units_14: 352\n",
            "units_15: 32\n",
            "units_16: 512\n",
            "units_17: 32\n",
            "units_18: 384\n",
            "units_19: 320\n",
            "Score: 0.8113088409105936\n",
            "Trial summary\n",
            "Hyperparameters:\n",
            "layers: 20\n",
            "units_0: 512\n",
            "units_1: 416\n",
            "learning_rate: 0.0001\n",
            "units_2: 448\n",
            "units_3: 480\n",
            "units_4: 128\n",
            "units_5: 224\n",
            "units_6: 224\n",
            "units_7: 96\n",
            "units_8: 384\n",
            "units_9: 384\n",
            "units_10: 160\n",
            "units_11: 160\n",
            "units_12: 32\n",
            "units_13: 32\n",
            "units_14: 32\n",
            "units_15: 32\n",
            "units_16: 32\n",
            "units_17: 32\n",
            "units_18: 32\n",
            "units_19: 32\n",
            "Score: 0.8111826380093893\n",
            "Trial summary\n",
            "Hyperparameters:\n",
            "layers: 12\n",
            "units_0: 384\n",
            "units_1: 352\n",
            "learning_rate: 0.01\n",
            "units_2: 32\n",
            "units_3: 32\n",
            "units_4: 32\n",
            "units_5: 32\n",
            "units_6: 32\n",
            "units_7: 32\n",
            "units_8: 32\n",
            "units_9: 32\n",
            "units_10: 32\n",
            "units_11: 32\n",
            "Score: 0.7909882664680481\n",
            "Trial summary\n",
            "Hyperparameters:\n",
            "layers: 2\n",
            "units_0: 32\n",
            "units_1: 192\n",
            "learning_rate: 0.01\n",
            "units_2: 416\n",
            "units_3: 416\n",
            "units_4: 480\n",
            "units_5: 320\n",
            "units_6: 512\n",
            "units_7: 64\n",
            "units_8: 64\n",
            "units_9: 512\n",
            "units_10: 128\n",
            "units_11: 416\n",
            "Score: 0.7909882664680481\n"
          ]
        }
      ]
    },
    {
      "cell_type": "code",
      "metadata": {
        "id": "RjwkW6cfnBSa"
      },
      "source": [
        "best_hp = tuner.get_best_hyperparameters()[0]"
      ],
      "execution_count": 27,
      "outputs": []
    },
    {
      "cell_type": "code",
      "metadata": {
        "colab": {
          "base_uri": "https://localhost:8080/"
        },
        "id": "bBciJdLJn_zT",
        "outputId": "8cd7739a-31c7-4379-dee5-44dc1ce49d0a"
      },
      "source": [
        "best_hp.values"
      ],
      "execution_count": 28,
      "outputs": [
        {
          "output_type": "execute_result",
          "data": {
            "text/plain": [
              "{'layers': 15,\n",
              " 'learning_rate': 0.0001,\n",
              " 'units_0': 288,\n",
              " 'units_1': 480,\n",
              " 'units_10': 192,\n",
              " 'units_11': 192,\n",
              " 'units_12': 384,\n",
              " 'units_13': 224,\n",
              " 'units_14': 384,\n",
              " 'units_15': 192,\n",
              " 'units_16': 288,\n",
              " 'units_17': 384,\n",
              " 'units_18': 128,\n",
              " 'units_19': 288,\n",
              " 'units_2': 416,\n",
              " 'units_3': 96,\n",
              " 'units_4': 96,\n",
              " 'units_5': 320,\n",
              " 'units_6': 64,\n",
              " 'units_7': 96,\n",
              " 'units_8': 480,\n",
              " 'units_9': 352}"
            ]
          },
          "metadata": {},
          "execution_count": 28
        }
      ]
    },
    {
      "cell_type": "code",
      "metadata": {
        "id": "s7drTSz-2wG4"
      },
      "source": [
        "best_model = tuner.get_best_models(num_models=1)[0]"
      ],
      "execution_count": 25,
      "outputs": []
    },
    {
      "cell_type": "code",
      "metadata": {
        "colab": {
          "base_uri": "https://localhost:8080/"
        },
        "id": "AvINDcQE3KPT",
        "outputId": "295702f5-3826-4493-d6fc-3785ba4c88a4"
      },
      "source": [
        "best_model.evaluate(X_test,y_test)"
      ],
      "execution_count": 29,
      "outputs": [
        {
          "output_type": "stream",
          "name": "stdout",
          "text": [
            "63/63 [==============================] - 1s 5ms/step - loss: 0.4084 - accuracy: 0.8575\n"
          ]
        },
        {
          "output_type": "execute_result",
          "data": {
            "text/plain": [
              "[0.40839266777038574, 0.8575000166893005]"
            ]
          },
          "metadata": {},
          "execution_count": 29
        }
      ]
    },
    {
      "cell_type": "code",
      "metadata": {
        "id": "qXahOibdjH6r"
      },
      "source": [
        "# predicting test set results\n",
        "y_pred = best_model.predict(X_test)\n",
        "y_pred=(y_pred>0.5)"
      ],
      "execution_count": 30,
      "outputs": []
    },
    {
      "cell_type": "code",
      "metadata": {
        "colab": {
          "base_uri": "https://localhost:8080/"
        },
        "id": "mAL3PNecjHq5",
        "outputId": "369300da-4e12-4c6c-e30b-c3d131067a8e"
      },
      "source": [
        "# make confusion_matrix and get accuracy score\n",
        "from sklearn.metrics import confusion_matrix,accuracy_score\n",
        "cm=confusion_matrix(y_test,y_pred)\n",
        "print(cm)\n",
        "accuracy=accuracy_score(y_test,y_pred)\n",
        "print(accuracy)"
      ],
      "execution_count": 31,
      "outputs": [
        {
          "output_type": "stream",
          "name": "stdout",
          "text": [
            "[[1544   63]\n",
            " [ 222  171]]\n",
            "0.8575\n"
          ]
        }
      ]
    },
    {
      "cell_type": "code",
      "metadata": {
        "id": "96C7AVu6jHgz"
      },
      "source": [
        ""
      ],
      "execution_count": null,
      "outputs": []
    }
  ]
}