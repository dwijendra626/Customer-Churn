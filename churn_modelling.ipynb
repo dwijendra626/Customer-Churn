{
  "nbformat": 4,
  "nbformat_minor": 0,
  "metadata": {
    "colab": {
      "name": "churn_modelling.ipynb",
      "provenance": []
    },
    "kernelspec": {
      "name": "python3",
      "display_name": "Python 3"
    },
    "language_info": {
      "name": "python"
    }
  },
  "cells": [
    {
      "cell_type": "code",
      "metadata": {
        "id": "9FZctoX3kMV9"
      },
      "source": [
        "import pandas as pd\n",
        "import numpy as np\n",
        "import tensorflow as tf"
      ],
      "execution_count": 1,
      "outputs": []
    },
    {
      "cell_type": "code",
      "metadata": {
        "colab": {
          "base_uri": "https://localhost:8080/",
          "height": 226
        },
        "id": "86deh0ZIkoNQ",
        "outputId": "8bf3ced3-5a56-4d0d-fe1e-ea7450cd7268"
      },
      "source": [
        "data = pd.read_csv('/content/drive/MyDrive/Colab Notebooks/Churn modelling/Churn_Modelling.csv')\n",
        "data.head()"
      ],
      "execution_count": 2,
      "outputs": [
        {
          "output_type": "execute_result",
          "data": {
            "text/html": [
              "<div>\n",
              "<style scoped>\n",
              "    .dataframe tbody tr th:only-of-type {\n",
              "        vertical-align: middle;\n",
              "    }\n",
              "\n",
              "    .dataframe tbody tr th {\n",
              "        vertical-align: top;\n",
              "    }\n",
              "\n",
              "    .dataframe thead th {\n",
              "        text-align: right;\n",
              "    }\n",
              "</style>\n",
              "<table border=\"1\" class=\"dataframe\">\n",
              "  <thead>\n",
              "    <tr style=\"text-align: right;\">\n",
              "      <th></th>\n",
              "      <th>RowNumber</th>\n",
              "      <th>CustomerId</th>\n",
              "      <th>Surname</th>\n",
              "      <th>CreditScore</th>\n",
              "      <th>Geography</th>\n",
              "      <th>Gender</th>\n",
              "      <th>Age</th>\n",
              "      <th>Tenure</th>\n",
              "      <th>Balance</th>\n",
              "      <th>NumOfProducts</th>\n",
              "      <th>HasCrCard</th>\n",
              "      <th>IsActiveMember</th>\n",
              "      <th>EstimatedSalary</th>\n",
              "      <th>Exited</th>\n",
              "    </tr>\n",
              "  </thead>\n",
              "  <tbody>\n",
              "    <tr>\n",
              "      <th>0</th>\n",
              "      <td>1</td>\n",
              "      <td>15634602</td>\n",
              "      <td>Hargrave</td>\n",
              "      <td>619</td>\n",
              "      <td>France</td>\n",
              "      <td>Female</td>\n",
              "      <td>42</td>\n",
              "      <td>2</td>\n",
              "      <td>0.00</td>\n",
              "      <td>1</td>\n",
              "      <td>1</td>\n",
              "      <td>1</td>\n",
              "      <td>101348.88</td>\n",
              "      <td>1</td>\n",
              "    </tr>\n",
              "    <tr>\n",
              "      <th>1</th>\n",
              "      <td>2</td>\n",
              "      <td>15647311</td>\n",
              "      <td>Hill</td>\n",
              "      <td>608</td>\n",
              "      <td>Spain</td>\n",
              "      <td>Female</td>\n",
              "      <td>41</td>\n",
              "      <td>1</td>\n",
              "      <td>83807.86</td>\n",
              "      <td>1</td>\n",
              "      <td>0</td>\n",
              "      <td>1</td>\n",
              "      <td>112542.58</td>\n",
              "      <td>0</td>\n",
              "    </tr>\n",
              "    <tr>\n",
              "      <th>2</th>\n",
              "      <td>3</td>\n",
              "      <td>15619304</td>\n",
              "      <td>Onio</td>\n",
              "      <td>502</td>\n",
              "      <td>France</td>\n",
              "      <td>Female</td>\n",
              "      <td>42</td>\n",
              "      <td>8</td>\n",
              "      <td>159660.80</td>\n",
              "      <td>3</td>\n",
              "      <td>1</td>\n",
              "      <td>0</td>\n",
              "      <td>113931.57</td>\n",
              "      <td>1</td>\n",
              "    </tr>\n",
              "    <tr>\n",
              "      <th>3</th>\n",
              "      <td>4</td>\n",
              "      <td>15701354</td>\n",
              "      <td>Boni</td>\n",
              "      <td>699</td>\n",
              "      <td>France</td>\n",
              "      <td>Female</td>\n",
              "      <td>39</td>\n",
              "      <td>1</td>\n",
              "      <td>0.00</td>\n",
              "      <td>2</td>\n",
              "      <td>0</td>\n",
              "      <td>0</td>\n",
              "      <td>93826.63</td>\n",
              "      <td>0</td>\n",
              "    </tr>\n",
              "    <tr>\n",
              "      <th>4</th>\n",
              "      <td>5</td>\n",
              "      <td>15737888</td>\n",
              "      <td>Mitchell</td>\n",
              "      <td>850</td>\n",
              "      <td>Spain</td>\n",
              "      <td>Female</td>\n",
              "      <td>43</td>\n",
              "      <td>2</td>\n",
              "      <td>125510.82</td>\n",
              "      <td>1</td>\n",
              "      <td>1</td>\n",
              "      <td>1</td>\n",
              "      <td>79084.10</td>\n",
              "      <td>0</td>\n",
              "    </tr>\n",
              "  </tbody>\n",
              "</table>\n",
              "</div>"
            ],
            "text/plain": [
              "   RowNumber  CustomerId   Surname  ...  IsActiveMember EstimatedSalary Exited\n",
              "0          1    15634602  Hargrave  ...               1       101348.88      1\n",
              "1          2    15647311      Hill  ...               1       112542.58      0\n",
              "2          3    15619304      Onio  ...               0       113931.57      1\n",
              "3          4    15701354      Boni  ...               0        93826.63      0\n",
              "4          5    15737888  Mitchell  ...               1        79084.10      0\n",
              "\n",
              "[5 rows x 14 columns]"
            ]
          },
          "metadata": {},
          "execution_count": 2
        }
      ]
    },
    {
      "cell_type": "code",
      "metadata": {
        "id": "u3NwAUHek3ZC"
      },
      "source": [
        "X = data.iloc[:,3:-1]\n",
        "y = data.iloc[:,-1]"
      ],
      "execution_count": 3,
      "outputs": []
    },
    {
      "cell_type": "code",
      "metadata": {
        "id": "Ywc6BxTUk4Hm"
      },
      "source": [
        "# create dummy variables\n",
        "geography = pd.get_dummies(data = X['Geography'],drop_first=True)\n",
        "gender = pd.get_dummies(data = X['Gender'],drop_first=True)"
      ],
      "execution_count": 4,
      "outputs": []
    },
    {
      "cell_type": "code",
      "metadata": {
        "id": "cRTWMlvsk88z"
      },
      "source": [
        "# concat two new columns to the X dataframe\n",
        "X=pd.concat([X,geography,gender],axis=1)"
      ],
      "execution_count": 5,
      "outputs": []
    },
    {
      "cell_type": "code",
      "metadata": {
        "id": "1eXsjCYAk-2m"
      },
      "source": [
        "#drop unnecessary columns\n",
        "X = X.drop(['Geography','Gender'],axis=1)"
      ],
      "execution_count": 6,
      "outputs": []
    },
    {
      "cell_type": "markdown",
      "metadata": {
        "id": "W2wB_UyilKBg"
      },
      "source": [
        "## Spiltting dataset"
      ]
    },
    {
      "cell_type": "code",
      "metadata": {
        "id": "A99Wxxf9lBAD"
      },
      "source": [
        "from sklearn.model_selection import train_test_split\n",
        "X_train,X_test,y_train,y_test = train_test_split(X,y,test_size=0.2,random_state=0)"
      ],
      "execution_count": 7,
      "outputs": []
    },
    {
      "cell_type": "markdown",
      "metadata": {
        "id": "F80pjhVhlP3_"
      },
      "source": [
        "## Feature Scaling"
      ]
    },
    {
      "cell_type": "code",
      "metadata": {
        "id": "FCDYh2-ClM3W"
      },
      "source": [
        "from sklearn.preprocessing import StandardScaler\n",
        "sc = StandardScaler()\n",
        "X_train = sc.fit_transform(X_train)\n",
        "X_test = sc.fit_transform(X_test)"
      ],
      "execution_count": 8,
      "outputs": []
    },
    {
      "cell_type": "markdown",
      "metadata": {
        "id": "Ac5ojKvzlX1z"
      },
      "source": [
        "## Importing ANN libraries"
      ]
    },
    {
      "cell_type": "code",
      "metadata": {
        "id": "C8Z35JbplStE"
      },
      "source": [
        "import tensorflow as tf\n",
        "from tensorflow import keras\n",
        "from tensorflow.keras.models import Sequential\n",
        "from tensorflow.keras.layers import Dense"
      ],
      "execution_count": 9,
      "outputs": []
    },
    {
      "cell_type": "code",
      "metadata": {
        "id": "m_bXfJ6hlbKx"
      },
      "source": [
        "## initializing ann\n",
        "classifier = Sequential()\n",
        "\n",
        "## adding 1st hidden layer\n",
        "classifier.add(Dense(units=6,activation='relu',kernel_initializer='he_uniform',input_dim = 11))\n",
        "\n",
        "##  adding 2nd hidden layer\n",
        "classifier.add(Dense(units=6,activation='relu',kernel_initializer='he_uniform'))\n",
        "\n",
        "## adding output layer\n",
        "classifier.add(Dense(units=1,activation='sigmoid',kernel_initializer='glorot_uniform'))"
      ],
      "execution_count": 10,
      "outputs": []
    },
    {
      "cell_type": "code",
      "metadata": {
        "colab": {
          "base_uri": "https://localhost:8080/"
        },
        "id": "oQEuQ5fxlg7m",
        "outputId": "dab49451-061e-4394-b138-914febfceecc"
      },
      "source": [
        "classifier.summary()"
      ],
      "execution_count": 11,
      "outputs": [
        {
          "output_type": "stream",
          "name": "stdout",
          "text": [
            "Model: \"sequential\"\n",
            "_________________________________________________________________\n",
            " Layer (type)                Output Shape              Param #   \n",
            "=================================================================\n",
            " dense (Dense)               (None, 6)                 72        \n",
            "                                                                 \n",
            " dense_1 (Dense)             (None, 6)                 42        \n",
            "                                                                 \n",
            " dense_2 (Dense)             (None, 1)                 7         \n",
            "                                                                 \n",
            "=================================================================\n",
            "Total params: 121\n",
            "Trainable params: 121\n",
            "Non-trainable params: 0\n",
            "_________________________________________________________________\n"
          ]
        }
      ]
    },
    {
      "cell_type": "code",
      "metadata": {
        "id": "SCTt5WKMljxz"
      },
      "source": [
        "## compiling ann\n",
        "classifier.compile(optimizer='adam',loss='binary_crossentropy',metrics=['accuracy'])"
      ],
      "execution_count": 12,
      "outputs": []
    },
    {
      "cell_type": "code",
      "metadata": {
        "colab": {
          "base_uri": "https://localhost:8080/"
        },
        "id": "eU5iV8M5lnCM",
        "outputId": "58617f43-534b-4568-b286-ecc3205863c0"
      },
      "source": [
        "# training ann on the train set\n",
        "classifier.fit(X_train,y_train,validation_split=0.33,batch_size=10,epochs=100)"
      ],
      "execution_count": 13,
      "outputs": [
        {
          "output_type": "stream",
          "name": "stdout",
          "text": [
            "Epoch 1/100\n",
            "536/536 [==============================] - 2s 2ms/step - loss: 0.7731 - accuracy: 0.6313 - val_loss: 0.5306 - val_accuracy: 0.7853\n",
            "Epoch 2/100\n",
            "536/536 [==============================] - 1s 2ms/step - loss: 0.4866 - accuracy: 0.7972 - val_loss: 0.4803 - val_accuracy: 0.8001\n",
            "Epoch 3/100\n",
            "536/536 [==============================] - 1s 2ms/step - loss: 0.4516 - accuracy: 0.8084 - val_loss: 0.4592 - val_accuracy: 0.8050\n",
            "Epoch 4/100\n",
            "536/536 [==============================] - 1s 2ms/step - loss: 0.4324 - accuracy: 0.8210 - val_loss: 0.4461 - val_accuracy: 0.8133\n",
            "Epoch 5/100\n",
            "536/536 [==============================] - 1s 2ms/step - loss: 0.4187 - accuracy: 0.8283 - val_loss: 0.4342 - val_accuracy: 0.8198\n",
            "Epoch 6/100\n",
            "536/536 [==============================] - 1s 2ms/step - loss: 0.4069 - accuracy: 0.8321 - val_loss: 0.4236 - val_accuracy: 0.8243\n",
            "Epoch 7/100\n",
            "536/536 [==============================] - 1s 2ms/step - loss: 0.3970 - accuracy: 0.8358 - val_loss: 0.4156 - val_accuracy: 0.8270\n",
            "Epoch 8/100\n",
            "536/536 [==============================] - 1s 2ms/step - loss: 0.3893 - accuracy: 0.8393 - val_loss: 0.4065 - val_accuracy: 0.8300\n",
            "Epoch 9/100\n",
            "536/536 [==============================] - 1s 2ms/step - loss: 0.3821 - accuracy: 0.8425 - val_loss: 0.3998 - val_accuracy: 0.8334\n",
            "Epoch 10/100\n",
            "536/536 [==============================] - 1s 2ms/step - loss: 0.3752 - accuracy: 0.8470 - val_loss: 0.3939 - val_accuracy: 0.8326\n",
            "Epoch 11/100\n",
            "536/536 [==============================] - 1s 2ms/step - loss: 0.3707 - accuracy: 0.8483 - val_loss: 0.3897 - val_accuracy: 0.8342\n",
            "Epoch 12/100\n",
            "536/536 [==============================] - 1s 2ms/step - loss: 0.3661 - accuracy: 0.8498 - val_loss: 0.3855 - val_accuracy: 0.8364\n",
            "Epoch 13/100\n",
            "536/536 [==============================] - 1s 2ms/step - loss: 0.3622 - accuracy: 0.8515 - val_loss: 0.3830 - val_accuracy: 0.8383\n",
            "Epoch 14/100\n",
            "536/536 [==============================] - 1s 2ms/step - loss: 0.3580 - accuracy: 0.8550 - val_loss: 0.3809 - val_accuracy: 0.8360\n",
            "Epoch 15/100\n",
            "536/536 [==============================] - 1s 2ms/step - loss: 0.3551 - accuracy: 0.8554 - val_loss: 0.3767 - val_accuracy: 0.8440\n",
            "Epoch 16/100\n",
            "536/536 [==============================] - 1s 2ms/step - loss: 0.3516 - accuracy: 0.8584 - val_loss: 0.3751 - val_accuracy: 0.8466\n",
            "Epoch 17/100\n",
            "536/536 [==============================] - 1s 2ms/step - loss: 0.3494 - accuracy: 0.8567 - val_loss: 0.3720 - val_accuracy: 0.8463\n",
            "Epoch 18/100\n",
            "536/536 [==============================] - 1s 2ms/step - loss: 0.3473 - accuracy: 0.8593 - val_loss: 0.3698 - val_accuracy: 0.8459\n",
            "Epoch 19/100\n",
            "536/536 [==============================] - 1s 2ms/step - loss: 0.3459 - accuracy: 0.8595 - val_loss: 0.3704 - val_accuracy: 0.8463\n",
            "Epoch 20/100\n",
            "536/536 [==============================] - 1s 2ms/step - loss: 0.3446 - accuracy: 0.8597 - val_loss: 0.3691 - val_accuracy: 0.8482\n",
            "Epoch 21/100\n",
            "536/536 [==============================] - 1s 2ms/step - loss: 0.3433 - accuracy: 0.8599 - val_loss: 0.3697 - val_accuracy: 0.8478\n",
            "Epoch 22/100\n",
            "536/536 [==============================] - 1s 2ms/step - loss: 0.3408 - accuracy: 0.8614 - val_loss: 0.3737 - val_accuracy: 0.8463\n",
            "Epoch 23/100\n",
            "536/536 [==============================] - 1s 2ms/step - loss: 0.3412 - accuracy: 0.8595 - val_loss: 0.3678 - val_accuracy: 0.8482\n",
            "Epoch 24/100\n",
            "536/536 [==============================] - 1s 2ms/step - loss: 0.3399 - accuracy: 0.8606 - val_loss: 0.3675 - val_accuracy: 0.8474\n",
            "Epoch 25/100\n",
            "536/536 [==============================] - 1s 2ms/step - loss: 0.3391 - accuracy: 0.8610 - val_loss: 0.3675 - val_accuracy: 0.8466\n",
            "Epoch 26/100\n",
            "536/536 [==============================] - 1s 2ms/step - loss: 0.3390 - accuracy: 0.8621 - val_loss: 0.3660 - val_accuracy: 0.8493\n",
            "Epoch 27/100\n",
            "536/536 [==============================] - 1s 2ms/step - loss: 0.3377 - accuracy: 0.8604 - val_loss: 0.3668 - val_accuracy: 0.8470\n",
            "Epoch 28/100\n",
            "536/536 [==============================] - 1s 2ms/step - loss: 0.3380 - accuracy: 0.8614 - val_loss: 0.3659 - val_accuracy: 0.8485\n",
            "Epoch 29/100\n",
            "536/536 [==============================] - 1s 2ms/step - loss: 0.3373 - accuracy: 0.8619 - val_loss: 0.3654 - val_accuracy: 0.8489\n",
            "Epoch 30/100\n",
            "536/536 [==============================] - 1s 2ms/step - loss: 0.3365 - accuracy: 0.8617 - val_loss: 0.3673 - val_accuracy: 0.8474\n",
            "Epoch 31/100\n",
            "536/536 [==============================] - 1s 2ms/step - loss: 0.3362 - accuracy: 0.8627 - val_loss: 0.3653 - val_accuracy: 0.8466\n",
            "Epoch 32/100\n",
            "536/536 [==============================] - 1s 2ms/step - loss: 0.3360 - accuracy: 0.8623 - val_loss: 0.3646 - val_accuracy: 0.8455\n",
            "Epoch 33/100\n",
            "536/536 [==============================] - 1s 2ms/step - loss: 0.3355 - accuracy: 0.8647 - val_loss: 0.3662 - val_accuracy: 0.8466\n",
            "Epoch 34/100\n",
            "536/536 [==============================] - 1s 2ms/step - loss: 0.3356 - accuracy: 0.8625 - val_loss: 0.3664 - val_accuracy: 0.8463\n",
            "Epoch 35/100\n",
            "536/536 [==============================] - 1s 2ms/step - loss: 0.3346 - accuracy: 0.8617 - val_loss: 0.3662 - val_accuracy: 0.8463\n",
            "Epoch 36/100\n",
            "536/536 [==============================] - 1s 2ms/step - loss: 0.3346 - accuracy: 0.8636 - val_loss: 0.3646 - val_accuracy: 0.8501\n",
            "Epoch 37/100\n",
            "536/536 [==============================] - 1s 2ms/step - loss: 0.3347 - accuracy: 0.8615 - val_loss: 0.3670 - val_accuracy: 0.8440\n",
            "Epoch 38/100\n",
            "536/536 [==============================] - 1s 2ms/step - loss: 0.3342 - accuracy: 0.8636 - val_loss: 0.3665 - val_accuracy: 0.8478\n",
            "Epoch 39/100\n",
            "536/536 [==============================] - 1s 2ms/step - loss: 0.3339 - accuracy: 0.8615 - val_loss: 0.3649 - val_accuracy: 0.8463\n",
            "Epoch 40/100\n",
            "536/536 [==============================] - 1s 2ms/step - loss: 0.3339 - accuracy: 0.8623 - val_loss: 0.3637 - val_accuracy: 0.8489\n",
            "Epoch 41/100\n",
            "536/536 [==============================] - 1s 2ms/step - loss: 0.3334 - accuracy: 0.8610 - val_loss: 0.3672 - val_accuracy: 0.8459\n",
            "Epoch 42/100\n",
            "536/536 [==============================] - 1s 2ms/step - loss: 0.3330 - accuracy: 0.8627 - val_loss: 0.3622 - val_accuracy: 0.8489\n",
            "Epoch 43/100\n",
            "536/536 [==============================] - 1s 2ms/step - loss: 0.3328 - accuracy: 0.8647 - val_loss: 0.3631 - val_accuracy: 0.8489\n",
            "Epoch 44/100\n",
            "536/536 [==============================] - 1s 2ms/step - loss: 0.3331 - accuracy: 0.8640 - val_loss: 0.3644 - val_accuracy: 0.8466\n",
            "Epoch 45/100\n",
            "536/536 [==============================] - 1s 2ms/step - loss: 0.3324 - accuracy: 0.8628 - val_loss: 0.3648 - val_accuracy: 0.8478\n",
            "Epoch 46/100\n",
            "536/536 [==============================] - 1s 2ms/step - loss: 0.3326 - accuracy: 0.8634 - val_loss: 0.3621 - val_accuracy: 0.8478\n",
            "Epoch 47/100\n",
            "536/536 [==============================] - 1s 2ms/step - loss: 0.3320 - accuracy: 0.8647 - val_loss: 0.3652 - val_accuracy: 0.8478\n",
            "Epoch 48/100\n",
            "536/536 [==============================] - 1s 2ms/step - loss: 0.3319 - accuracy: 0.8617 - val_loss: 0.3629 - val_accuracy: 0.8489\n",
            "Epoch 49/100\n",
            "536/536 [==============================] - 1s 2ms/step - loss: 0.3319 - accuracy: 0.8628 - val_loss: 0.3636 - val_accuracy: 0.8478\n",
            "Epoch 50/100\n",
            "536/536 [==============================] - 1s 2ms/step - loss: 0.3314 - accuracy: 0.8627 - val_loss: 0.3646 - val_accuracy: 0.8485\n",
            "Epoch 51/100\n",
            "536/536 [==============================] - 1s 2ms/step - loss: 0.3315 - accuracy: 0.8640 - val_loss: 0.3630 - val_accuracy: 0.8459\n",
            "Epoch 52/100\n",
            "536/536 [==============================] - 1s 2ms/step - loss: 0.3310 - accuracy: 0.8628 - val_loss: 0.3625 - val_accuracy: 0.8482\n",
            "Epoch 53/100\n",
            "536/536 [==============================] - 1s 2ms/step - loss: 0.3308 - accuracy: 0.8636 - val_loss: 0.3628 - val_accuracy: 0.8466\n",
            "Epoch 54/100\n",
            "536/536 [==============================] - 1s 2ms/step - loss: 0.3314 - accuracy: 0.8630 - val_loss: 0.3617 - val_accuracy: 0.8512\n",
            "Epoch 55/100\n",
            "536/536 [==============================] - 1s 2ms/step - loss: 0.3307 - accuracy: 0.8625 - val_loss: 0.3618 - val_accuracy: 0.8497\n",
            "Epoch 56/100\n",
            "536/536 [==============================] - 1s 2ms/step - loss: 0.3299 - accuracy: 0.8655 - val_loss: 0.3614 - val_accuracy: 0.8474\n",
            "Epoch 57/100\n",
            "536/536 [==============================] - 1s 2ms/step - loss: 0.3305 - accuracy: 0.8608 - val_loss: 0.3623 - val_accuracy: 0.8466\n",
            "Epoch 58/100\n",
            "536/536 [==============================] - 1s 2ms/step - loss: 0.3304 - accuracy: 0.8628 - val_loss: 0.3608 - val_accuracy: 0.8493\n",
            "Epoch 59/100\n",
            "536/536 [==============================] - 1s 2ms/step - loss: 0.3300 - accuracy: 0.8630 - val_loss: 0.3615 - val_accuracy: 0.8463\n",
            "Epoch 60/100\n",
            "536/536 [==============================] - 1s 2ms/step - loss: 0.3294 - accuracy: 0.8628 - val_loss: 0.3616 - val_accuracy: 0.8463\n",
            "Epoch 61/100\n",
            "536/536 [==============================] - 1s 2ms/step - loss: 0.3294 - accuracy: 0.8628 - val_loss: 0.3607 - val_accuracy: 0.8474\n",
            "Epoch 62/100\n",
            "536/536 [==============================] - 1s 2ms/step - loss: 0.3295 - accuracy: 0.8630 - val_loss: 0.3631 - val_accuracy: 0.8474\n",
            "Epoch 63/100\n",
            "536/536 [==============================] - 1s 2ms/step - loss: 0.3298 - accuracy: 0.8627 - val_loss: 0.3632 - val_accuracy: 0.8482\n",
            "Epoch 64/100\n",
            "536/536 [==============================] - 1s 2ms/step - loss: 0.3292 - accuracy: 0.8649 - val_loss: 0.3610 - val_accuracy: 0.8478\n",
            "Epoch 65/100\n",
            "536/536 [==============================] - 1s 2ms/step - loss: 0.3298 - accuracy: 0.8619 - val_loss: 0.3613 - val_accuracy: 0.8485\n",
            "Epoch 66/100\n",
            "536/536 [==============================] - 1s 2ms/step - loss: 0.3291 - accuracy: 0.8614 - val_loss: 0.3605 - val_accuracy: 0.8474\n",
            "Epoch 67/100\n",
            "536/536 [==============================] - 1s 2ms/step - loss: 0.3284 - accuracy: 0.8630 - val_loss: 0.3603 - val_accuracy: 0.8470\n",
            "Epoch 68/100\n",
            "536/536 [==============================] - 1s 2ms/step - loss: 0.3292 - accuracy: 0.8643 - val_loss: 0.3611 - val_accuracy: 0.8504\n",
            "Epoch 69/100\n",
            "536/536 [==============================] - 1s 2ms/step - loss: 0.3285 - accuracy: 0.8625 - val_loss: 0.3614 - val_accuracy: 0.8482\n",
            "Epoch 70/100\n",
            "536/536 [==============================] - 1s 2ms/step - loss: 0.3287 - accuracy: 0.8655 - val_loss: 0.3624 - val_accuracy: 0.8463\n",
            "Epoch 71/100\n",
            "536/536 [==============================] - 1s 2ms/step - loss: 0.3283 - accuracy: 0.8630 - val_loss: 0.3614 - val_accuracy: 0.8474\n",
            "Epoch 72/100\n",
            "536/536 [==============================] - 1s 2ms/step - loss: 0.3287 - accuracy: 0.8636 - val_loss: 0.3627 - val_accuracy: 0.8489\n",
            "Epoch 73/100\n",
            "536/536 [==============================] - 1s 2ms/step - loss: 0.3282 - accuracy: 0.8604 - val_loss: 0.3626 - val_accuracy: 0.8459\n",
            "Epoch 74/100\n",
            "536/536 [==============================] - 1s 2ms/step - loss: 0.3279 - accuracy: 0.8649 - val_loss: 0.3622 - val_accuracy: 0.8470\n",
            "Epoch 75/100\n",
            "536/536 [==============================] - 1s 2ms/step - loss: 0.3277 - accuracy: 0.8638 - val_loss: 0.3619 - val_accuracy: 0.8448\n",
            "Epoch 76/100\n",
            "536/536 [==============================] - 1s 2ms/step - loss: 0.3276 - accuracy: 0.8627 - val_loss: 0.3647 - val_accuracy: 0.8463\n",
            "Epoch 77/100\n",
            "536/536 [==============================] - 1s 2ms/step - loss: 0.3275 - accuracy: 0.8649 - val_loss: 0.3611 - val_accuracy: 0.8470\n",
            "Epoch 78/100\n",
            "536/536 [==============================] - 1s 2ms/step - loss: 0.3279 - accuracy: 0.8627 - val_loss: 0.3596 - val_accuracy: 0.8455\n",
            "Epoch 79/100\n",
            "536/536 [==============================] - 1s 2ms/step - loss: 0.3269 - accuracy: 0.8664 - val_loss: 0.3607 - val_accuracy: 0.8448\n",
            "Epoch 80/100\n",
            "536/536 [==============================] - 1s 2ms/step - loss: 0.3267 - accuracy: 0.8645 - val_loss: 0.3620 - val_accuracy: 0.8448\n",
            "Epoch 81/100\n",
            "536/536 [==============================] - 1s 2ms/step - loss: 0.3277 - accuracy: 0.8617 - val_loss: 0.3619 - val_accuracy: 0.8451\n",
            "Epoch 82/100\n",
            "536/536 [==============================] - 1s 2ms/step - loss: 0.3266 - accuracy: 0.8649 - val_loss: 0.3636 - val_accuracy: 0.8485\n",
            "Epoch 83/100\n",
            "536/536 [==============================] - 1s 2ms/step - loss: 0.3266 - accuracy: 0.8647 - val_loss: 0.3612 - val_accuracy: 0.8463\n",
            "Epoch 84/100\n",
            "536/536 [==============================] - 1s 2ms/step - loss: 0.3262 - accuracy: 0.8642 - val_loss: 0.3642 - val_accuracy: 0.8444\n",
            "Epoch 85/100\n",
            "536/536 [==============================] - 1s 2ms/step - loss: 0.3257 - accuracy: 0.8649 - val_loss: 0.3639 - val_accuracy: 0.8436\n",
            "Epoch 86/100\n",
            "536/536 [==============================] - 1s 2ms/step - loss: 0.3263 - accuracy: 0.8651 - val_loss: 0.3617 - val_accuracy: 0.8440\n",
            "Epoch 87/100\n",
            "536/536 [==============================] - 1s 2ms/step - loss: 0.3267 - accuracy: 0.8643 - val_loss: 0.3607 - val_accuracy: 0.8493\n",
            "Epoch 88/100\n",
            "536/536 [==============================] - 1s 2ms/step - loss: 0.3262 - accuracy: 0.8651 - val_loss: 0.3611 - val_accuracy: 0.8470\n",
            "Epoch 89/100\n",
            "536/536 [==============================] - 1s 2ms/step - loss: 0.3264 - accuracy: 0.8653 - val_loss: 0.3580 - val_accuracy: 0.8504\n",
            "Epoch 90/100\n",
            "536/536 [==============================] - 1s 2ms/step - loss: 0.3254 - accuracy: 0.8642 - val_loss: 0.3591 - val_accuracy: 0.8485\n",
            "Epoch 91/100\n",
            "536/536 [==============================] - 1s 2ms/step - loss: 0.3261 - accuracy: 0.8658 - val_loss: 0.3605 - val_accuracy: 0.8478\n",
            "Epoch 92/100\n",
            "536/536 [==============================] - 1s 2ms/step - loss: 0.3253 - accuracy: 0.8651 - val_loss: 0.3613 - val_accuracy: 0.8448\n",
            "Epoch 93/100\n",
            "536/536 [==============================] - 1s 2ms/step - loss: 0.3254 - accuracy: 0.8627 - val_loss: 0.3610 - val_accuracy: 0.8448\n",
            "Epoch 94/100\n",
            "536/536 [==============================] - 1s 2ms/step - loss: 0.3258 - accuracy: 0.8651 - val_loss: 0.3600 - val_accuracy: 0.8501\n",
            "Epoch 95/100\n",
            "536/536 [==============================] - 1s 2ms/step - loss: 0.3248 - accuracy: 0.8636 - val_loss: 0.3606 - val_accuracy: 0.8482\n",
            "Epoch 96/100\n",
            "536/536 [==============================] - 1s 2ms/step - loss: 0.3254 - accuracy: 0.8645 - val_loss: 0.3587 - val_accuracy: 0.8482\n",
            "Epoch 97/100\n",
            "536/536 [==============================] - 1s 2ms/step - loss: 0.3248 - accuracy: 0.8655 - val_loss: 0.3615 - val_accuracy: 0.8466\n",
            "Epoch 98/100\n",
            "536/536 [==============================] - 1s 2ms/step - loss: 0.3252 - accuracy: 0.8632 - val_loss: 0.3581 - val_accuracy: 0.8546\n",
            "Epoch 99/100\n",
            "536/536 [==============================] - 1s 2ms/step - loss: 0.3252 - accuracy: 0.8655 - val_loss: 0.3578 - val_accuracy: 0.8504\n",
            "Epoch 100/100\n",
            "536/536 [==============================] - 1s 2ms/step - loss: 0.3244 - accuracy: 0.8649 - val_loss: 0.3597 - val_accuracy: 0.8493\n"
          ]
        },
        {
          "output_type": "execute_result",
          "data": {
            "text/plain": [
              "<keras.callbacks.History at 0x7f0c8241e090>"
            ]
          },
          "metadata": {},
          "execution_count": 13
        }
      ]
    },
    {
      "cell_type": "code",
      "metadata": {
        "id": "ZblNCpkIlpcm"
      },
      "source": [
        "# predicting test set results\n",
        "y_pred = classifier.predict(X_test)\n",
        "y_pred=(y_pred>0.5)"
      ],
      "execution_count": 14,
      "outputs": []
    },
    {
      "cell_type": "code",
      "metadata": {
        "colab": {
          "base_uri": "https://localhost:8080/"
        },
        "id": "Xj4BopnzmOD0",
        "outputId": "7052f2e8-0f92-46eb-812b-37c13ef64c4e"
      },
      "source": [
        "# make confusion_matrix and get accuracy score\n",
        "from sklearn.metrics import confusion_matrix,accuracy_score\n",
        "cm=confusion_matrix(y_test,y_pred)\n",
        "print(cm)\n",
        "accuracy=accuracy_score(y_test,y_pred)\n",
        "print(accuracy)"
      ],
      "execution_count": 15,
      "outputs": [
        {
          "output_type": "stream",
          "name": "stdout",
          "text": [
            "[[1527   68]\n",
            " [ 212  193]]\n",
            "0.86\n"
          ]
        }
      ]
    },
    {
      "cell_type": "code",
      "metadata": {
        "id": "nxNDitwumQ0r"
      },
      "source": [
        ""
      ],
      "execution_count": null,
      "outputs": []
    }
  ]
}